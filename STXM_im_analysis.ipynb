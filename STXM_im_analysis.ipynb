{
 "cells": [
  {
   "cell_type": "code",
   "execution_count": 1,
   "id": "1ce4266e-bcc1-4bd7-ad39-5ac5e1ef17c2",
   "metadata": {},
   "outputs": [
    {
     "ename": "ImportError",
     "evalue": "cannot import name 'FileChooser' from 'ipyfilechooser' (unknown location)",
     "output_type": "error",
     "traceback": [
      "\u001b[0;31m---------------------------------------------------------------------------\u001b[0m",
      "\u001b[0;31mImportError\u001b[0m                               Traceback (most recent call last)",
      "Cell \u001b[0;32mIn[1], line 4\u001b[0m\n\u001b[1;32m      2\u001b[0m \u001b[38;5;28;01mimport\u001b[39;00m \u001b[38;5;21;01mos\u001b[39;00m\n\u001b[1;32m      3\u001b[0m \u001b[38;5;28;01mfrom\u001b[39;00m \u001b[38;5;21;01mnexusformat\u001b[39;00m \u001b[38;5;28;01mimport\u001b[39;00m nexus\n\u001b[0;32m----> 4\u001b[0m \u001b[38;5;28;01mfrom\u001b[39;00m \u001b[38;5;21;01mipyfilechooser\u001b[39;00m \u001b[38;5;28;01mimport\u001b[39;00m FileChooser\n\u001b[1;32m      5\u001b[0m \u001b[38;5;28;01mfrom\u001b[39;00m \u001b[38;5;21;01mhdr_import\u001b[39;00m \u001b[38;5;28;01mimport\u001b[39;00m HDRFile\n\u001b[1;32m      6\u001b[0m \u001b[38;5;28;01mfrom\u001b[39;00m \u001b[38;5;21;01mmatplotlib\u001b[39;00m\u001b[38;5;21;01m.\u001b[39;00m\u001b[38;5;21;01mcolors\u001b[39;00m \u001b[38;5;28;01mimport\u001b[39;00m LogNorm\n",
      "\u001b[0;31mImportError\u001b[0m: cannot import name 'FileChooser' from 'ipyfilechooser' (unknown location)"
     ]
    }
   ],
   "source": [
    "import numpy as np\n",
    "import os\n",
    "from nexusformat import nexus\n",
    "from ipyfilechooser import FileChooser\n",
    "from hdr_import import HDRFile\n",
    "from matplotlib.colors import LogNorm\n",
    "from scipy.ndimage import fourier_shift\n",
    "import skimage\n",
    "from skimage.registration import phase_cross_correlation\n",
    "from functions import clean_images, import_images, plot_stack, align_images, i_bg_mean, plot_stack_roi, get_roi_intensities, line_intensity, ROIs_select, Nexus_File_Save\n",
    "import matplotlib.pyplot as plt\n",
    "%matplotlib widget\n",
    "from IPython.display import display, clear_output\n",
    "from ipywidgets import widgets\n",
    "import cv2\n",
    "\n",
    "cleaned_images, aligned_images = [], []"
   ]
  },
  {
   "cell_type": "markdown",
   "id": "e0e85bda-ff91-45c0-97b0-d6b4984132cd",
   "metadata": {},
   "source": [
    "<h3>Choose file path</h3>\n",
    "Run the following cell and choose the folder path to the STXM energy stack."
   ]
  },
  {
   "cell_type": "code",
   "execution_count": 5,
   "id": "4181791e-85d9-4d0f-bd97-92df77a1f7ee",
   "metadata": {},
   "outputs": [
    {
     "data": {
      "application/vnd.jupyter.widget-view+json": {
       "model_id": "4bf8c8711efc4ab79633b56eaf7a30f4",
       "version_major": 2,
       "version_minor": 0
      },
      "text/plain": [
       "FileChooser(path='/mnt/c/Users/softimax-user/Documents/Python Scripts', filename='', title='', show_hidden=Fal…"
      ]
     },
     "metadata": {},
     "output_type": "display_data"
    }
   ],
   "source": [
    "from ipyfilechooser import FileChooser\n",
    "#file_path = '/data/visitors/softimax/Greco/'# enter the partial path to the data for faster navigation\n",
    "#file_path = '/data/visitors/softimax/20221193'\n",
    "file_path = 'C:\\\\Users\\\\softimax-user\\\\Documents\\\\Python Scripts\\\\sample_data\\\\'\n",
    "fc = FileChooser()\n",
    "display(fc)"
   ]
  },
  {
   "cell_type": "markdown",
   "id": "1cb1a8d6-f309-443b-aa2d-356fdd88ff67",
   "metadata": {},
   "source": [
    "<h3>Import the data</h3>\n",
    "Run the following cell to import the data from the chosen path and store it into numpy arrays"
   ]
  },
  {
   "cell_type": "code",
   "execution_count": 8,
   "id": "462b0a6f-faa4-45df-a066-93500936bcb8",
   "metadata": {},
   "outputs": [
    {
     "name": "stdout",
     "output_type": "stream",
     "text": [
      "Reading hdr file: /mnt/c/Users/softimax-user/Documents/Python Scripts/sample_data/Max_231210069/Max_231210069.hdr\n",
      "Reading xim file(s):\n",
      "/mnt/c/Users/softimax-user/Documents/Python Scripts/sample_data/Max_231210069/Max_231210069_a000.xim\n",
      "/mnt/c/Users/softimax-user/Documents/Python Scripts/sample_data/Max_231210069/Max_231210069_a001.xim\n",
      "/mnt/c/Users/softimax-user/Documents/Python Scripts/sample_data/Max_231210069/Max_231210069_a002.xim\n",
      "/mnt/c/Users/softimax-user/Documents/Python Scripts/sample_data/Max_231210069/Max_231210069_a003.xim\n",
      "/mnt/c/Users/softimax-user/Documents/Python Scripts/sample_data/Max_231210069/Max_231210069_a004.xim\n",
      "/mnt/c/Users/softimax-user/Documents/Python Scripts/sample_data/Max_231210069/Max_231210069_a005.xim\n",
      "/mnt/c/Users/softimax-user/Documents/Python Scripts/sample_data/Max_231210069/Max_231210069_a006.xim\n",
      "/mnt/c/Users/softimax-user/Documents/Python Scripts/sample_data/Max_231210069/Max_231210069_a007.xim\n",
      "/mnt/c/Users/softimax-user/Documents/Python Scripts/sample_data/Max_231210069/Max_231210069_a008.xim\n",
      "/mnt/c/Users/softimax-user/Documents/Python Scripts/sample_data/Max_231210069/Max_231210069_a009.xim\n",
      "/mnt/c/Users/softimax-user/Documents/Python Scripts/sample_data/Max_231210069/Max_231210069_a010.xim\n",
      "/mnt/c/Users/softimax-user/Documents/Python Scripts/sample_data/Max_231210069/Max_231210069_a011.xim\n",
      "/mnt/c/Users/softimax-user/Documents/Python Scripts/sample_data/Max_231210069/Max_231210069_a012.xim\n",
      "/mnt/c/Users/softimax-user/Documents/Python Scripts/sample_data/Max_231210069/Max_231210069_a013.xim\n",
      "/mnt/c/Users/softimax-user/Documents/Python Scripts/sample_data/Max_231210069/Max_231210069_a014.xim\n",
      "/mnt/c/Users/softimax-user/Documents/Python Scripts/sample_data/Max_231210069/Max_231210069_a015.xim\n",
      "/mnt/c/Users/softimax-user/Documents/Python Scripts/sample_data/Max_231210069/Max_231210069_a016.xim\n",
      "/mnt/c/Users/softimax-user/Documents/Python Scripts/sample_data/Max_231210069/Max_231210069_a017.xim\n",
      "/mnt/c/Users/softimax-user/Documents/Python Scripts/sample_data/Max_231210069/Max_231210069_a018.xim\n",
      "/mnt/c/Users/softimax-user/Documents/Python Scripts/sample_data/Max_231210069/Max_231210069_a019.xim\n",
      "/mnt/c/Users/softimax-user/Documents/Python Scripts/sample_data/Max_231210069/Max_231210069_a020.xim\n",
      "/mnt/c/Users/softimax-user/Documents/Python Scripts/sample_data/Max_231210069/Max_231210069_a021.xim\n",
      "/mnt/c/Users/softimax-user/Documents/Python Scripts/sample_data/Max_231210069/Max_231210069_a022.xim\n",
      "/mnt/c/Users/softimax-user/Documents/Python Scripts/sample_data/Max_231210069/Max_231210069_a023.xim\n",
      "/mnt/c/Users/softimax-user/Documents/Python Scripts/sample_data/Max_231210069/Max_231210069_a024.xim\n",
      "/mnt/c/Users/softimax-user/Documents/Python Scripts/sample_data/Max_231210069/Max_231210069_a025.xim\n",
      "/mnt/c/Users/softimax-user/Documents/Python Scripts/sample_data/Max_231210069/Max_231210069_a026.xim\n",
      "/mnt/c/Users/softimax-user/Documents/Python Scripts/sample_data/Max_231210069/Max_231210069_a027.xim\n",
      "/mnt/c/Users/softimax-user/Documents/Python Scripts/sample_data/Max_231210069/Max_231210069_a028.xim\n",
      "/mnt/c/Users/softimax-user/Documents/Python Scripts/sample_data/Max_231210069/Max_231210069_a029.xim\n",
      "/mnt/c/Users/softimax-user/Documents/Python Scripts/sample_data/Max_231210069/Max_231210069_a030.xim\n",
      "/mnt/c/Users/softimax-user/Documents/Python Scripts/sample_data/Max_231210069/Max_231210069_a031.xim\n",
      "/mnt/c/Users/softimax-user/Documents/Python Scripts/sample_data/Max_231210069/Max_231210069_a032.xim\n",
      "/mnt/c/Users/softimax-user/Documents/Python Scripts/sample_data/Max_231210069/Max_231210069_a033.xim\n",
      "/mnt/c/Users/softimax-user/Documents/Python Scripts/sample_data/Max_231210069/Max_231210069_a034.xim\n",
      "/mnt/c/Users/softimax-user/Documents/Python Scripts/sample_data/Max_231210069/Max_231210069_a035.xim\n",
      "/mnt/c/Users/softimax-user/Documents/Python Scripts/sample_data/Max_231210069/Max_231210069_a036.xim\n",
      "/mnt/c/Users/softimax-user/Documents/Python Scripts/sample_data/Max_231210069/Max_231210069_a037.xim\n",
      "/mnt/c/Users/softimax-user/Documents/Python Scripts/sample_data/Max_231210069/Max_231210069_a038.xim\n",
      "/mnt/c/Users/softimax-user/Documents/Python Scripts/sample_data/Max_231210069/Max_231210069_a039.xim\n",
      "/mnt/c/Users/softimax-user/Documents/Python Scripts/sample_data/Max_231210069/Max_231210069_a040.xim\n",
      "/mnt/c/Users/softimax-user/Documents/Python Scripts/sample_data/Max_231210069/Max_231210069_a041.xim\n",
      "/mnt/c/Users/softimax-user/Documents/Python Scripts/sample_data/Max_231210069/Max_231210069_a042.xim\n",
      "/mnt/c/Users/softimax-user/Documents/Python Scripts/sample_data/Max_231210069/Max_231210069_a043.xim\n",
      "/mnt/c/Users/softimax-user/Documents/Python Scripts/sample_data/Max_231210069/Max_231210069_a044.xim\n",
      "/mnt/c/Users/softimax-user/Documents/Python Scripts/sample_data/Max_231210069/Max_231210069_a045.xim\n",
      "/mnt/c/Users/softimax-user/Documents/Python Scripts/sample_data/Max_231210069/Max_231210069_a046.xim\n",
      "/mnt/c/Users/softimax-user/Documents/Python Scripts/sample_data/Max_231210069/Max_231210069_a047.xim\n",
      "/mnt/c/Users/softimax-user/Documents/Python Scripts/sample_data/Max_231210069/Max_231210069_a048.xim\n",
      "/mnt/c/Users/softimax-user/Documents/Python Scripts/sample_data/Max_231210069/Max_231210069_a049.xim\n",
      "/mnt/c/Users/softimax-user/Documents/Python Scripts/sample_data/Max_231210069/Max_231210069_a050.xim\n",
      "/mnt/c/Users/softimax-user/Documents/Python Scripts/sample_data/Max_231210069/Max_231210069_a051.xim\n",
      "/mnt/c/Users/softimax-user/Documents/Python Scripts/sample_data/Max_231210069/Max_231210069_a052.xim\n",
      "/mnt/c/Users/softimax-user/Documents/Python Scripts/sample_data/Max_231210069/Max_231210069_a053.xim\n",
      "/mnt/c/Users/softimax-user/Documents/Python Scripts/sample_data/Max_231210069/Max_231210069_a054.xim\n",
      "/mnt/c/Users/softimax-user/Documents/Python Scripts/sample_data/Max_231210069/Max_231210069_a055.xim\n",
      "/mnt/c/Users/softimax-user/Documents/Python Scripts/sample_data/Max_231210069/Max_231210069_a056.xim\n"
     ]
    },
    {
     "data": {
      "application/vnd.jupyter.widget-view+json": {
       "model_id": "039c541c001344e788d0cfddaad073dc",
       "version_major": 2,
       "version_minor": 0
      },
      "text/plain": [
       "interactive(children=(IntSlider(value=0, description='im_number', max=56), Output()), _dom_classes=('widget-in…"
      ]
     },
     "metadata": {},
     "output_type": "display_data"
    },
    {
     "data": {
      "application/vnd.jupyter.widget-view+json": {
       "model_id": "b00b6b023fb5457c9824ad53ecc38f87",
       "version_major": 2,
       "version_minor": 0
      },
      "image/png": "[encoded data removed]",
      "text/html": [
       "\n",
       "            <div style=\"display: inline-block;\">\n",
       "                <div class=\"jupyter-widgets widget-label\" style=\"text-align: center;\">\n",
       "                    Figure\n",
       "                </div>\n",
       "                <img src='data:image/png;base64,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' width=600.0/>\n",
       "            </div>\n",
       "        "
      ],
      "text/plain": [
       "Canvas(toolbar=Toolbar(toolitems=[('Home', 'Reset original view', 'home', 'home'), ('Back', 'Back to previous …"
      ]
     },
     "metadata": {},
     "output_type": "display_data"
    }
   ],
   "source": [
    "img_array, extent, energy, sample_hdr = import_images(fc)\n",
    "plot_stack(img_array, extent)\n",
    "cleaned_images, aligned_images = [], []"
   ]
  },
  {
   "cell_type": "code",
   "execution_count": 9,
   "id": "dea5a309-9e26-47aa-b9aa-4d7e0731dc36",
   "metadata": {},
   "outputs": [
    {
     "data": {
      "text/plain": [
       "'\\nScanDefinition = { Label = \"Max_231210069.hdr\"; Type = \"NEXAFS Image Scan\"; Flags = \"Image Stack\"; Dwell = 5;\\n\\tRegions = (1,\\n{\\n\\t\\t\\tPAxis = { Name = \"Sample X\"; Unit = \"um\"; Min = -439.6804; Max = -399.6804; Dir = 1;\\n\\t\\t\\t\\tPoints = (40, -439.6804, -438.6804, -437.6804, -436.6804, -435.6804, -434.6804, -433.6804, -432.6804, -431.6804, -430.6804, -429.6804, -428.6804, -427.6804, -426.6804, -425.6804, -424.6804, -423.6804, -422.6804, -421.6804, -420.6804, -419.6804, -418.6804, -417.6804, -416.6804, -415.6804, -414.6804, -413.6804, -412.6804, -411.6804, -410.6804, -409.6804, -408.6804, -407.6804, -406.6804, -405.6804, -404.6804, -403.6804, -402.6804, -401.6804, -400.6804);\\n};\\n\\n\\t\\t\\tQAxis = { Name = \"Sample Y\"; Unit = \"um\"; Min = 347.269; Max = 387.269; Dir = 1;\\n\\t\\t\\t\\tPoints = (40, 347.2690, 348.2690, 349.2690, 350.2690, 351.2690, 352.2690, 353.2690, 354.2690, 355.2690, 356.2690, 357.2690, 358.2690, 359.2690, 360.2690, 361.2690, 362.2690, 363.2690, 364.2690, 365.2690, 366.2690, 367.2690, 368.2690, 369.2690, 370.2690, 371.2690, 372.2690, 373.2690, 374.2690, 375.2690, 376.2690, 377.2690, 378.2690, 379.2690, 380.2690, 381.2690, 382.2690, 383.2690, 384.2690, 385.2690, 386.2690);\\n};\\n});\\n\\n\\tStackAxis = { Name = \"Energy\"; Unit = \"eV\"; Min = 925; Max = 945; Dir = 1;\\n\\t\\tPoints = (57, 925.0000, 925.5000, 926.0000, 926.5000, 927.0000, 927.5000, 928.0000, 928.5000, 929.0000, 929.2500, 929.5000, 929.7500, 930.0000, 930.2500, 930.5000, 930.7500, 931.0000, 931.2500, 931.5000, 931.7500, 932.0000, 932.2500, 932.5000, 932.7500, 933.0000, 933.2500, 933.5000, 933.7500, 934.0000, 934.2500, 934.5000, 934.7500, 935.0000, 935.2500, 935.5000, 935.7500, 936.0000, 936.2500, 936.5000, 936.7500, 937.0000, 937.5000, 938.0000, 938.5000, 939.0000, 939.5000, 940.0000, 940.5000, 941.0000, 941.5000, 942.0000, 942.5000, 943.0000, 943.5000, 944.0000, 944.5000, 945.0000);\\n};\\n\\n\\tChannels = (1,\\n{ Name = \"PMT\"; Unit = \"Hz\";});\\n};\\n Time = \"2023 December 10 22:20:13\"; BeamFeedback = false; ShutterAutomatic = true;\\nChannels = (1,\\n{ ID = 6; Type = 0; Name = \"PMT\"; DeviceNumber = 2; UnitName = \"Hz\"; LinearCoefficient = 1; ConstantCoefficient = 0; ProcessString = \"I\";});\\n\\nEnergy = { Name = \"Energy\"; LastPosition = 924.98307; Status = 0; ControllerID = 303;};\\n\\nSampleX = { Name = \"Sample X\"; LastPosition = -439.71199; Status = 0; ControllerID = 312;};\\n\\nSampleY = { Name = \"Sample Y\"; LastPosition = 345.82223; Status = 0; ControllerID = 313;};\\n\\nSampleCoarseX = { Name = \"CoarseX\"; LastPosition = -426.85; Status = 1; ControllerID = 231;};\\n\\nSampleCoarseY = { Name = \"CoarseY\"; LastPosition = 373.85; Status = 1; ControllerID = 232;};\\n\\nSampleCoarseZ = { Name = \"CoarseZ\"; LastPosition = 0; Status = 1; ControllerID = 0;};\\n\\nSampleFineX = { Name = \"FineX-PI\"; LastPosition = -12.81768; Status = 0; ControllerID = 171;};\\n\\nSampleFineY = { Name = \"FineY-PI\"; LastPosition = -27.983574; Status = 0; ControllerID = 172;};\\n\\nZonePlateZ = { Name = \"ZonePlate\"; LastPosition = -9900.5967; Status = 0; ControllerID = 292;};\\n\\nOSAX = { Name = \"OSAX\"; LastPosition = -0.000531; Status = 0; ControllerID = 304;};\\n\\nOSAY = { Name = \"OSAY\"; LastPosition = 0.000912; Status = 0; ControllerID = 305;};\\n\\nOsaZ = { Name = \"OSAZ\"; LastPosition = -400.006; Status = 0; ControllerID = 223;};\\n\\nDetectorX = { Name = \"DetectorX\"; LastPosition = 0; Status = 0; ControllerID = 295;};\\n\\nDetectorY = { Name = \"DetectorY\"; LastPosition = 0; Status = 0; ControllerID = 294;};\\n\\nDetectorZ = { Name = \"DetectorZ\"; LastPosition = 1500; Status = 0; ControllerID = 293;};\\n\\nAUX1 = { Name = \"AUX1\"; LastPosition = 10; Status = 1; ControllerID = 0;};\\n\\nAUX2 = { Name = \"FineZ-PI\"; LastPosition = 49.9988; Status = 0; ControllerID = 0;};\\n\\nAUX3 = { Name = \"Window_Z\"; LastPosition = 0; Status = 0; ControllerID = 308;};\\n\\nAUX4 = { Name = \"AUX4\"; LastPosition = 0; Status = 1; ControllerID = 0;};\\n\\nAUX5 = { Name = \"AUX5\"; LastPosition = 0; Status = 1; ControllerID = 0;};\\n\\nAUX6 = { Name = \"AUX6\"; LastPosition = 0; Status = 1; ControllerID = 0;};\\n\\nAUX7 = { Name = \"AUX7\"; LastPosition = 0; Status = 1; ControllerID = 0;};\\n\\nAUX8 = { Name = \"AUX8\"; LastPosition = 0; Status = 1; ControllerID = 0;};\\n\\nExitVSlit = { Name = \"Slit Horizontal\"; LastPosition = 4.01; Status = 0; ControllerID = 299;};\\n\\nExitHSlit = { Name = \"Slit Vertical\"; LastPosition = 4.02; Status = 0; ControllerID = 298;};\\n\\nEPU_Polarization = { Name = \"EPU Polarization\"; LastPosition = -5e-06; Status = 0; ControllerID = 306;};\\n\\nEPUGap = { Name = \"EPU Gap\"; LastPosition = 28.7009; Status = 0; ControllerID = 301;};\\n\\nEPU_Z = { Name = \"EPU Phase\"; LastPosition = 0; Status = 1; ControllerID = 0;};\\n\\nHarmonics = { Name = \"Harmonics\"; LastPosition = 0; Status = 1; ControllerID = 0;};\\n\\nCff = { Name = \"Cff\"; LastPosition = 0; Status = 1; ControllerID = 0;};\\n\\nMonoMirrorAngle = { Name = \"MonoMirrorAngle\"; LastPosition = 0; Status = 1; ControllerID = 0;};\\n\\nMonoGratingAngle = { Name = \"MonoGratingAngle\"; LastPosition = 0; Status = 1; ControllerID = 0;};\\n\\nEntranceSlit = { Name = \"M1 Angle\"; LastPosition = -960.83456; Status = 0; ControllerID = 291;};\\n\\nM3Angle = { Name = \"M3Angle\"; LastPosition = 1886.1725; Status = 0; ControllerID = 302;};\\n\\nGrating = { Name = \"Grating\"; LastPosition = 0; Status = 1; ControllerID = 0;};\\n\\nSampleFineZ = { Name = \"FineZ-PI\"; LastPosition = -0; Status = 1; ControllerID = 170;};\\n\\nZonePlateX = { Name = \"Zone Plate X\"; LastPosition = 0; Status = 1; ControllerID = 0;};\\n\\nZonePlateY = { Name = \"Zone Plate Y\"; LastPosition = 0; Status = 1; ControllerID = 0;};\\n\\nFineX_PI = { Name = \"FineX-PI\"; LastPosition = 61.5796; Status = 1; ControllerID = 0;};\\n\\nFineY_PI = { Name = \"FineY-PI\"; LastPosition = 50.0004; Status = 1; ControllerID = 0;};\\n\\nFineX_ACS = { Name = \"FineX_ACS\"; LastPosition = -5164.4869; Status = 1; ControllerID = 0;};\\n\\nFineY_ACS = { Name = \"FineY_ACS\"; LastPosition = -488.9633; Status = 1; ControllerID = 0;};\\n StorageRingCurrent = 397.312; EPUPhase = 0; Polarization = -0; PMT_CounterDivider = 10; Ao = 1459.5; Defocus = 500;\\nImageScan = { ScanType = \"Image (Line - unidirection)\"; Stage = \"Automatic\"; Shutter = \"false\"; SingleEnergy = false;\\n\\tEnergyRegions = (3,\\n{ StartEnergy = 925; EndEnergy = 929; Range = 4; Step = 0.5; Points = 9; DwellTime = 5;},\\n{ StartEnergy = 929.25; EndEnergy = 937; Range = 7.75; Step = 0.25; Points = 32; DwellTime = 5;},\\n{ StartEnergy = 937.5; EndEnergy = 945; Range = 7.5; Step = 0.5; Points = 16; DwellTime = 5;});\\n PointDelay = 0.01; LineDelay = 130; AccelDist = 1.4; MultipleRegions = true;\\n\\tSpatialRegions = (1,\\n{ CentreXPos = -419.6804; CentreYPos = 367.269; XRange = 40; YRange = 40; XStep = 1; YStep = 1; XPoints = 40; YPoints = 40; SquareRegion = false; SquarePixels = false;});\\n};\\nImage000_0 = {StorageRingCurrent = 397.31; Energy = 925.00; Time = \"2023 Dec 10 22:20:34\"; ZP_dest= -9900.70; ZP_error = 0.11;};\\nImage001_0 = {StorageRingCurrent = 397.31; Energy = 925.49; Time = \"2023 Dec 10 22:20:56\"; ZP_dest= -9906.65; ZP_error = -0.15;};\\nImage002_0 = {StorageRingCurrent = 397.31; Energy = 926.01; Time = \"2023 Dec 10 22:21:17\"; ZP_dest= -9913.07; ZP_error = 0.18;};\\nImage003_0 = {StorageRingCurrent = 397.31; Energy = 926.50; Time = \"2023 Dec 10 22:21:39\"; ZP_dest= -9919.04; ZP_error = -0.06;};\\nImage004_0 = {StorageRingCurrent = 397.31; Energy = 926.99; Time = \"2023 Dec 10 22:22:00\"; ZP_dest= -9925.12; ZP_error = -0.07;};\\nImage005_0 = {StorageRingCurrent = 397.31; Energy = 927.49; Time = \"2023 Dec 10 22:22:22\"; ZP_dest= -9931.24; ZP_error = -0.17;};\\nImage006_0 = {StorageRingCurrent = 397.31; Energy = 928.00; Time = \"2023 Dec 10 22:22:43\"; ZP_dest= -9937.44; ZP_error = -0.06;};\\nImage007_0 = {StorageRingCurrent = 397.31; Energy = 928.51; Time = \"2023 Dec 10 22:23:05\"; ZP_dest= -9943.76; ZP_error = 0.16;};\\nImage008_0 = {StorageRingCurrent = 397.31; Energy = 928.98; Time = \"2023 Dec 10 22:23:26\"; ZP_dest= -9949.57; ZP_error = -0.24;};\\nImage009_0 = {StorageRingCurrent = 397.31; Energy = 929.26; Time = \"2023 Dec 10 22:23:48\"; ZP_dest= -9952.99; ZP_error = 0.20;};\\nImage010_0 = {StorageRingCurrent = 397.31; Energy = 929.48; Time = \"2023 Dec 10 22:24:09\"; ZP_dest= -9955.69; ZP_error = -0.21;};\\nImage011_0 = {StorageRingCurrent = 397.31; Energy = 929.73; Time = \"2023 Dec 10 22:24:31\"; ZP_dest= -9958.70; ZP_error = -0.30;};\\nImage012_0 = {StorageRingCurrent = 397.31; Energy = 930.00; Time = \"2023 Dec 10 22:24:53\"; ZP_dest= -9962.06; ZP_error = -0.04;};\\nImage013_0 = {StorageRingCurrent = 397.31; Energy = 930.25; Time = \"2023 Dec 10 22:25:14\"; ZP_dest= -9965.16; ZP_error = 0.07;};\\nImage014_0 = {StorageRingCurrent = 397.31; Energy = 930.52; Time = \"2023 Dec 10 22:25:36\"; ZP_dest= -9968.42; ZP_error = 0.22;};\\nImage015_0 = {StorageRingCurrent = 397.31; Energy = 930.72; Time = \"2023 Dec 10 22:25:57\"; ZP_dest= -9970.89; ZP_error = -0.41;};\\nImage016_0 = {StorageRingCurrent = 397.31; Energy = 931.00; Time = \"2023 Dec 10 22:26:19\"; ZP_dest= -9974.34; ZP_error = 0.04;};\\nImage017_0 = {StorageRingCurrent = 397.31; Energy = 931.25; Time = \"2023 Dec 10 22:26:41\"; ZP_dest= -9977.36; ZP_error = -0.04;};\\nImage018_0 = {StorageRingCurrent = 397.31; Energy = 931.50; Time = \"2023 Dec 10 22:27:02\"; ZP_dest= -9980.52; ZP_error = 0.02;};\\nImage019_0 = {StorageRingCurrent = 397.31; Energy = 931.74; Time = \"2023 Dec 10 22:27:24\"; ZP_dest= -9983.48; ZP_error = -0.02;};\\nImage020_0 = {StorageRingCurrent = 397.31; Energy = 932.01; Time = \"2023 Dec 10 22:27:45\"; ZP_dest= -9986.73; ZP_error = 0.13;};\\nImage021_0 = {StorageRingCurrent = 397.31; Energy = 932.24; Time = \"2023 Dec 10 22:28:07\"; ZP_dest= -9989.60; ZP_error = -0.10;};\\nImage022_0 = {StorageRingCurrent = 397.31; Energy = 932.49; Time = \"2023 Dec 10 22:28:29\"; ZP_dest= -9992.68; ZP_error = -0.12;};\\nImage023_0 = {StorageRingCurrent = 397.31; Energy = 932.74; Time = \"2023 Dec 10 22:28:50\"; ZP_dest= -9995.67; ZP_error = -0.13;};\\nImage024_0 = {StorageRingCurrent = 397.31; Energy = 933.01; Time = \"2023 Dec 10 22:29:12\"; ZP_dest= -9999.02; ZP_error = 0.12;};\\nImage025_0 = {StorageRingCurrent = 397.31; Energy = 933.26; Time = \"2023 Dec 10 22:29:33\"; ZP_dest= -10002.12; ZP_error = 0.12;};\\nImage026_0 = {StorageRingCurrent = 397.31; Energy = 933.52; Time = \"2023 Dec 10 22:29:55\"; ZP_dest= -10005.29; ZP_error = 0.29;};\\nImage027_0 = {StorageRingCurrent = 397.31; Energy = 933.76; Time = \"2023 Dec 10 22:30:17\"; ZP_dest= -10008.22; ZP_error = 0.12;};\\nImage028_0 = {StorageRingCurrent = 397.31; Energy = 934.03; Time = \"2023 Dec 10 22:30:39\"; ZP_dest= -10011.61; ZP_error = 0.41;};\\nImage029_0 = {StorageRingCurrent = 397.31; Energy = 934.24; Time = \"2023 Dec 10 22:31:00\"; ZP_dest= -10014.15; ZP_error = -0.05;};\\nImage030_0 = {StorageRingCurrent = 397.31; Energy = 934.49; Time = \"2023 Dec 10 22:31:22\"; ZP_dest= -10017.23; ZP_error = -0.07;};\\nImage031_0 = {StorageRingCurrent = 397.31; Energy = 934.73; Time = \"2023 Dec 10 22:31:44\"; ZP_dest= -10020.15; ZP_error = -0.25;};\\nImage032_0 = {StorageRingCurrent = 397.31; Energy = 935.00; Time = \"2023 Dec 10 22:32:05\"; ZP_dest= -10023.41; ZP_error = -0.10;};\\nImage033_0 = {StorageRingCurrent = 397.31; Energy = 935.26; Time = \"2023 Dec 10 22:32:27\"; ZP_dest= -10026.69; ZP_error = 0.19;};\\nImage034_0 = {StorageRingCurrent = 397.31; Energy = 935.49; Time = \"2023 Dec 10 22:32:48\"; ZP_dest= -10029.53; ZP_error = -0.07;};\\nImage035_0 = {StorageRingCurrent = 397.31; Energy = 935.76; Time = \"2023 Dec 10 22:33:10\"; ZP_dest= -10032.75; ZP_error = 0.05;};\\nImage036_0 = {StorageRingCurrent = 397.31; Energy = 936.01; Time = \"2023 Dec 10 22:33:32\"; ZP_dest= -10035.91; ZP_error = 0.21;};\\nImage037_0 = {StorageRingCurrent = 397.31; Energy = 936.27; Time = \"2023 Dec 10 22:33:53\"; ZP_dest= -10039.05; ZP_error = 0.24;};\\nImage038_0 = {StorageRingCurrent = 397.31; Energy = 936.48; Time = \"2023 Dec 10 22:34:15\"; ZP_dest= -10041.69; ZP_error = -0.21;};\\nImage039_0 = {StorageRingCurrent = 397.31; Energy = 936.75; Time = \"2023 Dec 10 22:34:36\"; ZP_dest= -10044.96; ZP_error = -0.03;};\\nImage040_0 = {StorageRingCurrent = 397.31; Energy = 936.98; Time = \"2023 Dec 10 22:34:57\"; ZP_dest= -10047.80; ZP_error = -0.20;};\\nImage041_0 = {StorageRingCurrent = 397.31; Energy = 937.50; Time = \"2023 Dec 10 22:35:19\"; ZP_dest= -10054.20; ZP_error = -0.00;};\\nImage042_0 = {StorageRingCurrent = 397.31; Energy = 937.99; Time = \"2023 Dec 10 22:35:41\"; ZP_dest= -10060.23; ZP_error = -0.07;};\\nImage043_0 = {StorageRingCurrent = 397.31; Energy = 938.49; Time = \"2023 Dec 10 22:36:02\"; ZP_dest= -10066.38; ZP_error = -0.02;};\\nImage044_0 = {StorageRingCurrent = 397.31; Energy = 939.00; Time = \"2023 Dec 10 22:36:24\"; ZP_dest= -10072.64; ZP_error = 0.04;};\\nImage045_0 = {StorageRingCurrent = 397.31; Energy = 939.50; Time = \"2023 Dec 10 22:36:45\"; ZP_dest= -10078.79; ZP_error = 0.08;};\\nImage046_0 = {StorageRingCurrent = 397.31; Energy = 940.01; Time = \"2023 Dec 10 22:37:07\"; ZP_dest= -10084.96; ZP_error = 0.05;};\\nImage047_0 = {StorageRingCurrent = 397.31; Energy = 940.49; Time = \"2023 Dec 10 22:37:29\"; ZP_dest= -10090.93; ZP_error = -0.08;};\\nImage048_0 = {StorageRingCurrent = 397.31; Energy = 940.99; Time = \"2023 Dec 10 22:37:50\"; ZP_dest= -10096.99; ZP_error = -0.11;};\\nImage049_0 = {StorageRingCurrent = 397.31; Energy = 941.51; Time = \"2023 Dec 10 22:38:12\"; ZP_dest= -10103.39; ZP_error = 0.09;};\\nImage050_0 = {StorageRingCurrent = 397.31; Energy = 942.02; Time = \"2023 Dec 10 22:38:33\"; ZP_dest= -10109.66; ZP_error = 0.25;};\\nImage051_0 = {StorageRingCurrent = 397.31; Energy = 942.47; Time = \"2023 Dec 10 22:38:55\"; ZP_dest= -10115.25; ZP_error = -0.36;};\\nImage052_0 = {StorageRingCurrent = 397.31; Energy = 943.00; Time = \"2023 Dec 10 22:39:17\"; ZP_dest= -10121.67; ZP_error = -0.03;};\\nImage053_0 = {StorageRingCurrent = 397.31; Energy = 943.49; Time = \"2023 Dec 10 22:39:38\"; ZP_dest= -10127.76; ZP_error = -0.13;};\\nImage054_0 = {StorageRingCurrent = 397.31; Energy = 944.01; Time = \"2023 Dec 10 22:40:00\"; ZP_dest= -10134.07; ZP_error = 0.07;};\\nImage055_0 = {StorageRingCurrent = 397.31; Energy = 944.49; Time = \"2023 Dec 10 22:40:21\"; ZP_dest= -10140.02; ZP_error = -0.08;};\\nImage056_0 = {StorageRingCurrent = 397.31; Energy = 945.01; Time = \"2023 Dec 10 22:40:43\"; ZP_dest= -10146.44; ZP_error = 0.15;};\\n'"
      ]
     },
     "execution_count": 9,
     "metadata": {},
     "output_type": "execute_result"
    }
   ],
   "source": [
    "sample_hdr.hdr_content_raw"
   ]
  },
  {
   "cell_type": "code",
   "execution_count": 10,
   "id": "12fc1921-12ce-4e6f-8953-bf7bdeea5177",
   "metadata": {},
   "outputs": [
    {
     "data": {
      "text/plain": [
       "<bound method ParseResults.as_dict of ParseResults([ParseResults(['ScanDefinition', '=', '{', ParseResults(['Label', 'Max_231210069.hdr'], {}), ParseResults(['Type', 'NEXAFS Image Scan'], {}), ParseResults(['Flags', 'Image Stack'], {}), ParseResults(['Dwell', '5'], {}), ParseResults(['Regions', ParseResults(['1', ParseResults(['PAxis', '=', '{', ParseResults(['Name', 'Sample X'], {}), ParseResults(['Unit', 'um'], {}), ParseResults(['Min', '-439.6804'], {}), ParseResults(['Max', '-399.6804'], {}), ParseResults(['Dir', '1'], {}), ParseResults(['Points', 40.0, -439.6804, -438.6804, -437.6804, -436.6804, -435.6804, -434.6804, -433.6804, -432.6804, -431.6804, -430.6804, -429.6804, -428.6804, -427.6804, -426.6804, -425.6804, -424.6804, -423.6804, -422.6804, -421.6804, -420.6804, -419.6804, -418.6804, -417.6804, -416.6804, -415.6804, -414.6804, -413.6804, -412.6804, -411.6804, -410.6804, -409.6804, -408.6804, -407.6804, -406.6804, -405.6804, -404.6804, -403.6804, -402.6804, -401.6804, -400.6804], {}), '}'], {'Name': 'Sample X', 'Unit': 'um', 'Min': '-439.6804', 'Max': '-399.6804', 'Dir': '1', 'Points': [40.0, -439.6804, -438.6804, -437.6804, -436.6804, -435.6804, -434.6804, -433.6804, -432.6804, -431.6804, -430.6804, -429.6804, -428.6804, -427.6804, -426.6804, -425.6804, -424.6804, -423.6804, -422.6804, -421.6804, -420.6804, -419.6804, -418.6804, -417.6804, -416.6804, -415.6804, -414.6804, -413.6804, -412.6804, -411.6804, -410.6804, -409.6804, -408.6804, -407.6804, -406.6804, -405.6804, -404.6804, -403.6804, -402.6804, -401.6804, -400.6804]}), ParseResults(['QAxis', '=', '{', ParseResults(['Name', 'Sample Y'], {}), ParseResults(['Unit', 'um'], {}), ParseResults(['Min', '347.269'], {}), ParseResults(['Max', '387.269'], {}), ParseResults(['Dir', '1'], {}), ParseResults(['Points', 40.0, 347.269, 348.269, 349.269, 350.269, 351.269, 352.269, 353.269, 354.269, 355.269, 356.269, 357.269, 358.269, 359.269, 360.269, 361.269, 362.269, 363.269, 364.269, 365.269, 366.269, 367.269, 368.269, 369.269, 370.269, 371.269, 372.269, 373.269, 374.269, 375.269, 376.269, 377.269, 378.269, 379.269, 380.269, 381.269, 382.269, 383.269, 384.269, 385.269, 386.269], {}), '}'], {'Name': 'Sample Y', 'Unit': 'um', 'Min': '347.269', 'Max': '387.269', 'Dir': '1', 'Points': [40.0, 347.269, 348.269, 349.269, 350.269, 351.269, 352.269, 353.269, 354.269, 355.269, 356.269, 357.269, 358.269, 359.269, 360.269, 361.269, 362.269, 363.269, 364.269, 365.269, 366.269, 367.269, 368.269, 369.269, 370.269, 371.269, 372.269, 373.269, 374.269, 375.269, 376.269, 377.269, 378.269, 379.269, 380.269, 381.269, 382.269, 383.269, 384.269, 385.269, 386.269]})], {'PAxis': {'Name': 'Sample X', 'Unit': 'um', 'Min': '-439.6804', 'Max': '-399.6804', 'Dir': '1', 'Points': [40.0, -439.6804, -438.6804, -437.6804, -436.6804, -435.6804, -434.6804, -433.6804, -432.6804, -431.6804, -430.6804, -429.6804, -428.6804, -427.6804, -426.6804, -425.6804, -424.6804, -423.6804, -422.6804, -421.6804, -420.6804, -419.6804, -418.6804, -417.6804, -416.6804, -415.6804, -414.6804, -413.6804, -412.6804, -411.6804, -410.6804, -409.6804, -408.6804, -407.6804, -406.6804, -405.6804, -404.6804, -403.6804, -402.6804, -401.6804, -400.6804]}, 'QAxis': {'Name': 'Sample Y', 'Unit': 'um', 'Min': '347.269', 'Max': '387.269', 'Dir': '1', 'Points': [40.0, 347.269, 348.269, 349.269, 350.269, 351.269, 352.269, 353.269, 354.269, 355.269, 356.269, 357.269, 358.269, 359.269, 360.269, 361.269, 362.269, 363.269, 364.269, 365.269, 366.269, 367.269, 368.269, 369.269, 370.269, 371.269, 372.269, 373.269, 374.269, 375.269, 376.269, 377.269, 378.269, 379.269, 380.269, 381.269, 382.269, 383.269, 384.269, 385.269, 386.269]}})], {'1': {'PAxis': {'Name': 'Sample X', 'Unit': 'um', 'Min': '-439.6804', 'Max': '-399.6804', 'Dir': '1', 'Points': [40.0, -439.6804, -438.6804, -437.6804, -436.6804, -435.6804, -434.6804, -433.6804, -432.6804, -431.6804, -430.6804, -429.6804, -428.6804, -427.6804, -426.6804, -425.6804, -424.6804, -423.6804, -422.6804, -421.6804, -420.6804, -419.6804, -418.6804, -417.6804, -416.6804, -415.6804, -414.6804, -413.6804, -412.6804, -411.6804, -410.6804, -409.6804, -408.6804, -407.6804, -406.6804, -405.6804, -404.6804, -403.6804, -402.6804, -401.6804, -400.6804]}, 'QAxis': {'Name': 'Sample Y', 'Unit': 'um', 'Min': '347.269', 'Max': '387.269', 'Dir': '1', 'Points': [40.0, 347.269, 348.269, 349.269, 350.269, 351.269, 352.269, 353.269, 354.269, 355.269, 356.269, 357.269, 358.269, 359.269, 360.269, 361.269, 362.269, 363.269, 364.269, 365.269, 366.269, 367.269, 368.269, 369.269, 370.269, 371.269, 372.269, 373.269, 374.269, 375.269, 376.269, 377.269, 378.269, 379.269, 380.269, 381.269, 382.269, 383.269, 384.269, 385.269, 386.269]}}}), ParseResults(['StackAxis', '=', '{', ParseResults(['Name', 'Energy'], {}), ParseResults(['Unit', 'eV'], {}), ParseResults(['Min', '925'], {}), ParseResults(['Max', '945'], {}), ParseResults(['Dir', '1'], {}), ParseResults(['Points', 57.0, 925.0, 925.5, 926.0, 926.5, 927.0, 927.5, 928.0, 928.5, 929.0, 929.25, 929.5, 929.75, 930.0, 930.25, 930.5, 930.75, 931.0, 931.25, 931.5, 931.75, 932.0, 932.25, 932.5, 932.75, 933.0, 933.25, 933.5, 933.75, 934.0, 934.25, 934.5, 934.75, 935.0, 935.25, 935.5, 935.75, 936.0, 936.25, 936.5, 936.75, 937.0, 937.5, 938.0, 938.5, 939.0, 939.5, 940.0, 940.5, 941.0, 941.5, 942.0, 942.5, 943.0, 943.5, 944.0, 944.5, 945.0], {}), '}'], {'Name': 'Energy', 'Unit': 'eV', 'Min': '925', 'Max': '945', 'Dir': '1', 'Points': [57.0, 925.0, 925.5, 926.0, 926.5, 927.0, 927.5, 928.0, 928.5, 929.0, 929.25, 929.5, 929.75, 930.0, 930.25, 930.5, 930.75, 931.0, 931.25, 931.5, 931.75, 932.0, 932.25, 932.5, 932.75, 933.0, 933.25, 933.5, 933.75, 934.0, 934.25, 934.5, 934.75, 935.0, 935.25, 935.5, 935.75, 936.0, 936.25, 936.5, 936.75, 937.0, 937.5, 938.0, 938.5, 939.0, 939.5, 940.0, 940.5, 941.0, 941.5, 942.0, 942.5, 943.0, 943.5, 944.0, 944.5, 945.0]}), ParseResults(['Channels', ParseResults(['1', ParseResults(['Name', 'PMT'], {}), ParseResults(['Unit', 'Hz'], {})], {'Name': 'PMT', 'Unit': 'Hz'})], {'1': {'Name': 'PMT', 'Unit': 'Hz'}}), '}'], {'Label': 'Max_231210069.hdr', 'Type': 'NEXAFS Image Scan', 'Flags': 'Image Stack', 'Dwell': '5', 'Regions': {'1': {'PAxis': {'Name': 'Sample X', 'Unit': 'um', 'Min': '-439.6804', 'Max': '-399.6804', 'Dir': '1', 'Points': [40.0, -439.6804, -438.6804, -437.6804, -436.6804, -435.6804, -434.6804, -433.6804, -432.6804, -431.6804, -430.6804, -429.6804, -428.6804, -427.6804, -426.6804, -425.6804, -424.6804, -423.6804, -422.6804, -421.6804, -420.6804, -419.6804, -418.6804, -417.6804, -416.6804, -415.6804, -414.6804, -413.6804, -412.6804, -411.6804, -410.6804, -409.6804, -408.6804, -407.6804, -406.6804, -405.6804, -404.6804, -403.6804, -402.6804, -401.6804, -400.6804]}, 'QAxis': {'Name': 'Sample Y', 'Unit': 'um', 'Min': '347.269', 'Max': '387.269', 'Dir': '1', 'Points': [40.0, 347.269, 348.269, 349.269, 350.269, 351.269, 352.269, 353.269, 354.269, 355.269, 356.269, 357.269, 358.269, 359.269, 360.269, 361.269, 362.269, 363.269, 364.269, 365.269, 366.269, 367.269, 368.269, 369.269, 370.269, 371.269, 372.269, 373.269, 374.269, 375.269, 376.269, 377.269, 378.269, 379.269, 380.269, 381.269, 382.269, 383.269, 384.269, 385.269, 386.269]}}}, 'StackAxis': {'Name': 'Energy', 'Unit': 'eV', 'Min': '925', 'Max': '945', 'Dir': '1', 'Points': [57.0, 925.0, 925.5, 926.0, 926.5, 927.0, 927.5, 928.0, 928.5, 929.0, 929.25, 929.5, 929.75, 930.0, 930.25, 930.5, 930.75, 931.0, 931.25, 931.5, 931.75, 932.0, 932.25, 932.5, 932.75, 933.0, 933.25, 933.5, 933.75, 934.0, 934.25, 934.5, 934.75, 935.0, 935.25, 935.5, 935.75, 936.0, 936.25, 936.5, 936.75, 937.0, 937.5, 938.0, 938.5, 939.0, 939.5, 940.0, 940.5, 941.0, 941.5, 942.0, 942.5, 943.0, 943.5, 944.0, 944.5, 945.0]}, 'Channels': {'1': {'Name': 'PMT', 'Unit': 'Hz'}}}), ParseResults(['Time', '2023 December 10 22:20:13'], {}), ParseResults(['BeamFeedback', 'false'], {}), ParseResults(['ShutterAutomatic', 'true'], {}), ParseResults(['Channels', ParseResults(['1', ParseResults(['ID', '6'], {}), ParseResults(['Type', '0'], {}), ParseResults(['Name', 'PMT'], {}), ParseResults(['DeviceNumber', '2'], {}), ParseResults(['UnitName', 'Hz'], {}), ParseResults(['LinearCoefficient', '1'], {}), ParseResults(['ConstantCoefficient', '0'], {}), ParseResults(['ProcessString', 'I'], {})], {'ID': '6', 'Type': '0', 'Name': 'PMT', 'DeviceNumber': '2', 'UnitName': 'Hz', 'LinearCoefficient': '1', 'ConstantCoefficient': '0', 'ProcessString': 'I'})], {'1': {'ID': '6', 'Type': '0', 'Name': 'PMT', 'DeviceNumber': '2', 'UnitName': 'Hz', 'LinearCoefficient': '1', 'ConstantCoefficient': '0', 'ProcessString': 'I'}}), ParseResults(['Energy', '=', '{', ParseResults(['Name', 'Energy'], {}), ParseResults(['LastPosition', '924.98307'], {}), ParseResults(['Status', '0'], {}), ParseResults(['ControllerID', '303'], {}), '}'], {'Name': 'Energy', 'LastPosition': '924.98307', 'Status': '0', 'ControllerID': '303'}), ParseResults(['SampleX', '=', '{', ParseResults(['Name', 'Sample X'], {}), ParseResults(['LastPosition', '-439.71199'], {}), ParseResults(['Status', '0'], {}), ParseResults(['ControllerID', '312'], {}), '}'], {'Name': 'Sample X', 'LastPosition': '-439.71199', 'Status': '0', 'ControllerID': '312'}), ParseResults(['SampleY', '=', '{', ParseResults(['Name', 'Sample Y'], {}), ParseResults(['LastPosition', '345.82223'], {}), ParseResults(['Status', '0'], {}), ParseResults(['ControllerID', '313'], {}), '}'], {'Name': 'Sample Y', 'LastPosition': '345.82223', 'Status': '0', 'ControllerID': '313'}), ParseResults(['SampleCoarseX', '=', '{', ParseResults(['Name', 'CoarseX'], {}), ParseResults(['LastPosition', '-426.85'], {}), ParseResults(['Status', '1'], {}), ParseResults(['ControllerID', '231'], {}), '}'], {'Name': 'CoarseX', 'LastPosition': '-426.85', 'Status': '1', 'ControllerID': '231'}), ParseResults(['SampleCoarseY', '=', '{', ParseResults(['Name', 'CoarseY'], {}), ParseResults(['LastPosition', '373.85'], {}), ParseResults(['Status', '1'], {}), ParseResults(['ControllerID', '232'], {}), '}'], {'Name': 'CoarseY', 'LastPosition': '373.85', 'Status': '1', 'ControllerID': '232'}), ParseResults(['SampleCoarseZ', '=', '{', ParseResults(['Name', 'CoarseZ'], {}), ParseResults(['LastPosition', '0'], {}), ParseResults(['Status', '1'], {}), ParseResults(['ControllerID', '0'], {}), '}'], {'Name': 'CoarseZ', 'LastPosition': '0', 'Status': '1', 'ControllerID': '0'}), ParseResults(['SampleFineX', '=', '{', ParseResults(['Name', 'FineX-PI'], {}), ParseResults(['LastPosition', '-12.81768'], {}), ParseResults(['Status', '0'], {}), ParseResults(['ControllerID', '171'], {}), '}'], {'Name': 'FineX-PI', 'LastPosition': '-12.81768', 'Status': '0', 'ControllerID': '171'}), ParseResults(['SampleFineY', '=', '{', ParseResults(['Name', 'FineY-PI'], {}), ParseResults(['LastPosition', '-27.983574'], {}), ParseResults(['Status', '0'], {}), ParseResults(['ControllerID', '172'], {}), '}'], {'Name': 'FineY-PI', 'LastPosition': '-27.983574', 'Status': '0', 'ControllerID': '172'}), ParseResults(['ZonePlateZ', '=', '{', ParseResults(['Name', 'ZonePlate'], {}), ParseResults(['LastPosition', '-9900.5967'], {}), ParseResults(['Status', '0'], {}), ParseResults(['ControllerID', '292'], {}), '}'], {'Name': 'ZonePlate', 'LastPosition': '-9900.5967', 'Status': '0', 'ControllerID': '292'}), ParseResults(['OSAX', '=', '{', ParseResults(['Name', 'OSAX'], {}), ParseResults(['LastPosition', '-0.000531'], {}), ParseResults(['Status', '0'], {}), ParseResults(['ControllerID', '304'], {}), '}'], {'Name': 'OSAX', 'LastPosition': '-0.000531', 'Status': '0', 'ControllerID': '304'}), ParseResults(['OSAY', '=', '{', ParseResults(['Name', 'OSAY'], {}), ParseResults(['LastPosition', '0.000912'], {}), ParseResults(['Status', '0'], {}), ParseResults(['ControllerID', '305'], {}), '}'], {'Name': 'OSAY', 'LastPosition': '0.000912', 'Status': '0', 'ControllerID': '305'}), ParseResults(['OsaZ', '=', '{', ParseResults(['Name', 'OSAZ'], {}), ParseResults(['LastPosition', '-400.006'], {}), ParseResults(['Status', '0'], {}), ParseResults(['ControllerID', '223'], {}), '}'], {'Name': 'OSAZ', 'LastPosition': '-400.006', 'Status': '0', 'ControllerID': '223'}), ParseResults(['DetectorX', '=', '{', ParseResults(['Name', 'DetectorX'], {}), ParseResults(['LastPosition', '0'], {}), ParseResults(['Status', '0'], {}), ParseResults(['ControllerID', '295'], {}), '}'], {'Name': 'DetectorX', 'LastPosition': '0', 'Status': '0', 'ControllerID': '295'}), ParseResults(['DetectorY', '=', '{', ParseResults(['Name', 'DetectorY'], {}), ParseResults(['LastPosition', '0'], {}), ParseResults(['Status', '0'], {}), ParseResults(['ControllerID', '294'], {}), '}'], {'Name': 'DetectorY', 'LastPosition': '0', 'Status': '0', 'ControllerID': '294'}), ParseResults(['DetectorZ', '=', '{', ParseResults(['Name', 'DetectorZ'], {}), ParseResults(['LastPosition', '1500'], {}), ParseResults(['Status', '0'], {}), ParseResults(['ControllerID', '293'], {}), '}'], {'Name': 'DetectorZ', 'LastPosition': '1500', 'Status': '0', 'ControllerID': '293'}), ParseResults(['AUX1', '=', '{', ParseResults(['Name', 'AUX1'], {}), ParseResults(['LastPosition', '10'], {}), ParseResults(['Status', '1'], {}), ParseResults(['ControllerID', '0'], {}), '}'], {'Name': 'AUX1', 'LastPosition': '10', 'Status': '1', 'ControllerID': '0'}), ParseResults(['AUX2', '=', '{', ParseResults(['Name', 'FineZ-PI'], {}), ParseResults(['LastPosition', '49.9988'], {}), ParseResults(['Status', '0'], {}), ParseResults(['ControllerID', '0'], {}), '}'], {'Name': 'FineZ-PI', 'LastPosition': '49.9988', 'Status': '0', 'ControllerID': '0'}), ParseResults(['AUX3', '=', '{', ParseResults(['Name', 'Window_Z'], {}), ParseResults(['LastPosition', '0'], {}), ParseResults(['Status', '0'], {}), ParseResults(['ControllerID', '308'], {}), '}'], {'Name': 'Window_Z', 'LastPosition': '0', 'Status': '0', 'ControllerID': '308'}), ParseResults(['AUX4', '=', '{', ParseResults(['Name', 'AUX4'], {}), ParseResults(['LastPosition', '0'], {}), ParseResults(['Status', '1'], {}), ParseResults(['ControllerID', '0'], {}), '}'], {'Name': 'AUX4', 'LastPosition': '0', 'Status': '1', 'ControllerID': '0'}), ParseResults(['AUX5', '=', '{', ParseResults(['Name', 'AUX5'], {}), ParseResults(['LastPosition', '0'], {}), ParseResults(['Status', '1'], {}), ParseResults(['ControllerID', '0'], {}), '}'], {'Name': 'AUX5', 'LastPosition': '0', 'Status': '1', 'ControllerID': '0'}), ParseResults(['AUX6', '=', '{', ParseResults(['Name', 'AUX6'], {}), ParseResults(['LastPosition', '0'], {}), ParseResults(['Status', '1'], {}), ParseResults(['ControllerID', '0'], {}), '}'], {'Name': 'AUX6', 'LastPosition': '0', 'Status': '1', 'ControllerID': '0'}), ParseResults(['AUX7', '=', '{', ParseResults(['Name', 'AUX7'], {}), ParseResults(['LastPosition', '0'], {}), ParseResults(['Status', '1'], {}), ParseResults(['ControllerID', '0'], {}), '}'], {'Name': 'AUX7', 'LastPosition': '0', 'Status': '1', 'ControllerID': '0'}), ParseResults(['AUX8', '=', '{', ParseResults(['Name', 'AUX8'], {}), ParseResults(['LastPosition', '0'], {}), ParseResults(['Status', '1'], {}), ParseResults(['ControllerID', '0'], {}), '}'], {'Name': 'AUX8', 'LastPosition': '0', 'Status': '1', 'ControllerID': '0'}), ParseResults(['ExitVSlit', '=', '{', ParseResults(['Name', 'Slit Horizontal'], {}), ParseResults(['LastPosition', '4.01'], {}), ParseResults(['Status', '0'], {}), ParseResults(['ControllerID', '299'], {}), '}'], {'Name': 'Slit Horizontal', 'LastPosition': '4.01', 'Status': '0', 'ControllerID': '299'}), ParseResults(['ExitHSlit', '=', '{', ParseResults(['Name', 'Slit Vertical'], {}), ParseResults(['LastPosition', '4.02'], {}), ParseResults(['Status', '0'], {}), ParseResults(['ControllerID', '298'], {}), '}'], {'Name': 'Slit Vertical', 'LastPosition': '4.02', 'Status': '0', 'ControllerID': '298'})], {'ScanDefinition': {'Label': 'Max_231210069.hdr', 'Type': 'NEXAFS Image Scan', 'Flags': 'Image Stack', 'Dwell': '5', 'Regions': {'1': {'PAxis': {'Name': 'Sample X', 'Unit': 'um', 'Min': '-439.6804', 'Max': '-399.6804', 'Dir': '1', 'Points': [40.0, -439.6804, -438.6804, -437.6804, -436.6804, -435.6804, -434.6804, -433.6804, -432.6804, -431.6804, -430.6804, -429.6804, -428.6804, -427.6804, -426.6804, -425.6804, -424.6804, -423.6804, -422.6804, -421.6804, -420.6804, -419.6804, -418.6804, -417.6804, -416.6804, -415.6804, -414.6804, -413.6804, -412.6804, -411.6804, -410.6804, -409.6804, -408.6804, -407.6804, -406.6804, -405.6804, -404.6804, -403.6804, -402.6804, -401.6804, -400.6804]}, 'QAxis': {'Name': 'Sample Y', 'Unit': 'um', 'Min': '347.269', 'Max': '387.269', 'Dir': '1', 'Points': [40.0, 347.269, 348.269, 349.269, 350.269, 351.269, 352.269, 353.269, 354.269, 355.269, 356.269, 357.269, 358.269, 359.269, 360.269, 361.269, 362.269, 363.269, 364.269, 365.269, 366.269, 367.269, 368.269, 369.269, 370.269, 371.269, 372.269, 373.269, 374.269, 375.269, 376.269, 377.269, 378.269, 379.269, 380.269, 381.269, 382.269, 383.269, 384.269, 385.269, 386.269]}}}, 'StackAxis': {'Name': 'Energy', 'Unit': 'eV', 'Min': '925', 'Max': '945', 'Dir': '1', 'Points': [57.0, 925.0, 925.5, 926.0, 926.5, 927.0, 927.5, 928.0, 928.5, 929.0, 929.25, 929.5, 929.75, 930.0, 930.25, 930.5, 930.75, 931.0, 931.25, 931.5, 931.75, 932.0, 932.25, 932.5, 932.75, 933.0, 933.25, 933.5, 933.75, 934.0, 934.25, 934.5, 934.75, 935.0, 935.25, 935.5, 935.75, 936.0, 936.25, 936.5, 936.75, 937.0, 937.5, 938.0, 938.5, 939.0, 939.5, 940.0, 940.5, 941.0, 941.5, 942.0, 942.5, 943.0, 943.5, 944.0, 944.5, 945.0]}, 'Channels': {'1': {'Name': 'PMT', 'Unit': 'Hz'}}}, 'Time': '2023 December 10 22:20:13', 'BeamFeedback': 'false', 'ShutterAutomatic': 'true', 'Channels': {'1': {'ID': '6', 'Type': '0', 'Name': 'PMT', 'DeviceNumber': '2', 'UnitName': 'Hz', 'LinearCoefficient': '1', 'ConstantCoefficient': '0', 'ProcessString': 'I'}}, 'Energy': {'Name': 'Energy', 'LastPosition': '924.98307', 'Status': '0', 'ControllerID': '303'}, 'SampleX': {'Name': 'Sample X', 'LastPosition': '-439.71199', 'Status': '0', 'ControllerID': '312'}, 'SampleY': {'Name': 'Sample Y', 'LastPosition': '345.82223', 'Status': '0', 'ControllerID': '313'}, 'SampleCoarseX': {'Name': 'CoarseX', 'LastPosition': '-426.85', 'Status': '1', 'ControllerID': '231'}, 'SampleCoarseY': {'Name': 'CoarseY', 'LastPosition': '373.85', 'Status': '1', 'ControllerID': '232'}, 'SampleCoarseZ': {'Name': 'CoarseZ', 'LastPosition': '0', 'Status': '1', 'ControllerID': '0'}, 'SampleFineX': {'Name': 'FineX-PI', 'LastPosition': '-12.81768', 'Status': '0', 'ControllerID': '171'}, 'SampleFineY': {'Name': 'FineY-PI', 'LastPosition': '-27.983574', 'Status': '0', 'ControllerID': '172'}, 'ZonePlateZ': {'Name': 'ZonePlate', 'LastPosition': '-9900.5967', 'Status': '0', 'ControllerID': '292'}, 'OSAX': {'Name': 'OSAX', 'LastPosition': '-0.000531', 'Status': '0', 'ControllerID': '304'}, 'OSAY': {'Name': 'OSAY', 'LastPosition': '0.000912', 'Status': '0', 'ControllerID': '305'}, 'OsaZ': {'Name': 'OSAZ', 'LastPosition': '-400.006', 'Status': '0', 'ControllerID': '223'}, 'DetectorX': {'Name': 'DetectorX', 'LastPosition': '0', 'Status': '0', 'ControllerID': '295'}, 'DetectorY': {'Name': 'DetectorY', 'LastPosition': '0', 'Status': '0', 'ControllerID': '294'}, 'DetectorZ': {'Name': 'DetectorZ', 'LastPosition': '1500', 'Status': '0', 'ControllerID': '293'}, 'AUX1': {'Name': 'AUX1', 'LastPosition': '10', 'Status': '1', 'ControllerID': '0'}, 'AUX2': {'Name': 'FineZ-PI', 'LastPosition': '49.9988', 'Status': '0', 'ControllerID': '0'}, 'AUX3': {'Name': 'Window_Z', 'LastPosition': '0', 'Status': '0', 'ControllerID': '308'}, 'AUX4': {'Name': 'AUX4', 'LastPosition': '0', 'Status': '1', 'ControllerID': '0'}, 'AUX5': {'Name': 'AUX5', 'LastPosition': '0', 'Status': '1', 'ControllerID': '0'}, 'AUX6': {'Name': 'AUX6', 'LastPosition': '0', 'Status': '1', 'ControllerID': '0'}, 'AUX7': {'Name': 'AUX7', 'LastPosition': '0', 'Status': '1', 'ControllerID': '0'}, 'AUX8': {'Name': 'AUX8', 'LastPosition': '0', 'Status': '1', 'ControllerID': '0'}, 'ExitVSlit': {'Name': 'Slit Horizontal', 'LastPosition': '4.01', 'Status': '0', 'ControllerID': '299'}, 'ExitHSlit': {'Name': 'Slit Vertical', 'LastPosition': '4.02', 'Status': '0', 'ControllerID': '298'}})>"
      ]
     },
     "execution_count": 10,
     "metadata": {},
     "output_type": "execute_result"
    }
   ],
   "source": [
    "sample_hdr.parsing_result.asDict"
   ]
  },
  {
   "cell_type": "code",
   "execution_count": 11,
   "id": "4492a093-03d0-4aa5-811a-85d23d6ad578",
   "metadata": {},
   "outputs": [
    {
     "data": {
      "text/plain": [
       "{'ScanDefinition': {'Label': 'Max_231210069.hdr',\n",
       "  'Type': 'NEXAFS Image Scan',\n",
       "  'Flags': 'Image Stack',\n",
       "  'Dwell': 5,\n",
       "  'Regions': {'1': {'PAxis': {'Name': 'Sample X',\n",
       "     'Unit': 'um',\n",
       "     'Min': -439.6804,\n",
       "     'Max': -399.6804,\n",
       "     'Dir': 1,\n",
       "     'Points': [40.0,\n",
       "      -439.6804,\n",
       "      -438.6804,\n",
       "      -437.6804,\n",
       "      -436.6804,\n",
       "      -435.6804,\n",
       "      -434.6804,\n",
       "      -433.6804,\n",
       "      -432.6804,\n",
       "      -431.6804,\n",
       "      -430.6804,\n",
       "      -429.6804,\n",
       "      -428.6804,\n",
       "      -427.6804,\n",
       "      -426.6804,\n",
       "      -425.6804,\n",
       "      -424.6804,\n",
       "      -423.6804,\n",
       "      -422.6804,\n",
       "      -421.6804,\n",
       "      -420.6804,\n",
       "      -419.6804,\n",
       "      -418.6804,\n",
       "      -417.6804,\n",
       "      -416.6804,\n",
       "      -415.6804,\n",
       "      -414.6804,\n",
       "      -413.6804,\n",
       "      -412.6804,\n",
       "      -411.6804,\n",
       "      -410.6804,\n",
       "      -409.6804,\n",
       "      -408.6804,\n",
       "      -407.6804,\n",
       "      -406.6804,\n",
       "      -405.6804,\n",
       "      -404.6804,\n",
       "      -403.6804,\n",
       "      -402.6804,\n",
       "      -401.6804,\n",
       "      -400.6804]},\n",
       "    'QAxis': {'Name': 'Sample Y',\n",
       "     'Unit': 'um',\n",
       "     'Min': 347.269,\n",
       "     'Max': 387.269,\n",
       "     'Dir': 1,\n",
       "     'Points': [40.0,\n",
       "      347.269,\n",
       "      348.269,\n",
       "      349.269,\n",
       "      350.269,\n",
       "      351.269,\n",
       "      352.269,\n",
       "      353.269,\n",
       "      354.269,\n",
       "      355.269,\n",
       "      356.269,\n",
       "      357.269,\n",
       "      358.269,\n",
       "      359.269,\n",
       "      360.269,\n",
       "      361.269,\n",
       "      362.269,\n",
       "      363.269,\n",
       "      364.269,\n",
       "      365.269,\n",
       "      366.269,\n",
       "      367.269,\n",
       "      368.269,\n",
       "      369.269,\n",
       "      370.269,\n",
       "      371.269,\n",
       "      372.269,\n",
       "      373.269,\n",
       "      374.269,\n",
       "      375.269,\n",
       "      376.269,\n",
       "      377.269,\n",
       "      378.269,\n",
       "      379.269,\n",
       "      380.269,\n",
       "      381.269,\n",
       "      382.269,\n",
       "      383.269,\n",
       "      384.269,\n",
       "      385.269,\n",
       "      386.269]}}},\n",
       "  'StackAxis': {'Name': 'Energy',\n",
       "   'Unit': 'eV',\n",
       "   'Min': 925,\n",
       "   'Max': 945,\n",
       "   'Dir': 1,\n",
       "   'Points': [57.0,\n",
       "    925.0,\n",
       "    925.5,\n",
       "    926.0,\n",
       "    926.5,\n",
       "    927.0,\n",
       "    927.5,\n",
       "    928.0,\n",
       "    928.5,\n",
       "    929.0,\n",
       "    929.25,\n",
       "    929.5,\n",
       "    929.75,\n",
       "    930.0,\n",
       "    930.25,\n",
       "    930.5,\n",
       "    930.75,\n",
       "    931.0,\n",
       "    931.25,\n",
       "    931.5,\n",
       "    931.75,\n",
       "    932.0,\n",
       "    932.25,\n",
       "    932.5,\n",
       "    932.75,\n",
       "    933.0,\n",
       "    933.25,\n",
       "    933.5,\n",
       "    933.75,\n",
       "    934.0,\n",
       "    934.25,\n",
       "    934.5,\n",
       "    934.75,\n",
       "    935.0,\n",
       "    935.25,\n",
       "    935.5,\n",
       "    935.75,\n",
       "    936.0,\n",
       "    936.25,\n",
       "    936.5,\n",
       "    936.75,\n",
       "    937.0,\n",
       "    937.5,\n",
       "    938.0,\n",
       "    938.5,\n",
       "    939.0,\n",
       "    939.5,\n",
       "    940.0,\n",
       "    940.5,\n",
       "    941.0,\n",
       "    941.5,\n",
       "    942.0,\n",
       "    942.5,\n",
       "    943.0,\n",
       "    943.5,\n",
       "    944.0,\n",
       "    944.5,\n",
       "    945.0]},\n",
       "  'Channels': {'1': {'Name': 'PMT', 'Unit': 'Hz'}}},\n",
       " 'Time': '2023 December 10 22:20:13',\n",
       " 'BeamFeedback': False,\n",
       " 'ShutterAutomatic': True,\n",
       " 'Channels': {'1': {'ID': 6,\n",
       "   'Type': 0,\n",
       "   'Name': 'PMT',\n",
       "   'DeviceNumber': 2,\n",
       "   'UnitName': 'Hz',\n",
       "   'LinearCoefficient': 1,\n",
       "   'ConstantCoefficient': 0,\n",
       "   'ProcessString': 'I'}},\n",
       " 'Energy': {'Name': 'Energy',\n",
       "  'LastPosition': 924.98307,\n",
       "  'Status': 0,\n",
       "  'ControllerID': 303},\n",
       " 'SampleX': {'Name': 'Sample X',\n",
       "  'LastPosition': -439.71199,\n",
       "  'Status': 0,\n",
       "  'ControllerID': 312},\n",
       " 'SampleY': {'Name': 'Sample Y',\n",
       "  'LastPosition': 345.82223,\n",
       "  'Status': 0,\n",
       "  'ControllerID': 313},\n",
       " 'SampleCoarseX': {'Name': 'CoarseX',\n",
       "  'LastPosition': -426.85,\n",
       "  'Status': 1,\n",
       "  'ControllerID': 231},\n",
       " 'SampleCoarseY': {'Name': 'CoarseY',\n",
       "  'LastPosition': 373.85,\n",
       "  'Status': 1,\n",
       "  'ControllerID': 232},\n",
       " 'SampleCoarseZ': {'Name': 'CoarseZ',\n",
       "  'LastPosition': 0,\n",
       "  'Status': 1,\n",
       "  'ControllerID': 0},\n",
       " 'SampleFineX': {'Name': 'FineX-PI',\n",
       "  'LastPosition': -12.81768,\n",
       "  'Status': 0,\n",
       "  'ControllerID': 171},\n",
       " 'SampleFineY': {'Name': 'FineY-PI',\n",
       "  'LastPosition': -27.983574,\n",
       "  'Status': 0,\n",
       "  'ControllerID': 172},\n",
       " 'ZonePlateZ': {'Name': 'ZonePlate',\n",
       "  'LastPosition': -9900.5967,\n",
       "  'Status': 0,\n",
       "  'ControllerID': 292},\n",
       " 'OSAX': {'Name': 'OSAX',\n",
       "  'LastPosition': -0.000531,\n",
       "  'Status': 0,\n",
       "  'ControllerID': 304},\n",
       " 'OSAY': {'Name': 'OSAY',\n",
       "  'LastPosition': 0.000912,\n",
       "  'Status': 0,\n",
       "  'ControllerID': 305},\n",
       " 'OsaZ': {'Name': 'OSAZ',\n",
       "  'LastPosition': -400.006,\n",
       "  'Status': 0,\n",
       "  'ControllerID': 223},\n",
       " 'DetectorX': {'Name': 'DetectorX',\n",
       "  'LastPosition': 0,\n",
       "  'Status': 0,\n",
       "  'ControllerID': 295},\n",
       " 'DetectorY': {'Name': 'DetectorY',\n",
       "  'LastPosition': 0,\n",
       "  'Status': 0,\n",
       "  'ControllerID': 294},\n",
       " 'DetectorZ': {'Name': 'DetectorZ',\n",
       "  'LastPosition': 1500,\n",
       "  'Status': 0,\n",
       "  'ControllerID': 293},\n",
       " 'AUX1': {'Name': 'AUX1', 'LastPosition': 10, 'Status': 1, 'ControllerID': 0},\n",
       " 'AUX2': {'Name': 'FineZ-PI',\n",
       "  'LastPosition': 49.9988,\n",
       "  'Status': 0,\n",
       "  'ControllerID': 0},\n",
       " 'AUX3': {'Name': 'Window_Z',\n",
       "  'LastPosition': 0,\n",
       "  'Status': 0,\n",
       "  'ControllerID': 308},\n",
       " 'AUX4': {'Name': 'AUX4', 'LastPosition': 0, 'Status': 1, 'ControllerID': 0},\n",
       " 'AUX5': {'Name': 'AUX5', 'LastPosition': 0, 'Status': 1, 'ControllerID': 0},\n",
       " 'AUX6': {'Name': 'AUX6', 'LastPosition': 0, 'Status': 1, 'ControllerID': 0},\n",
       " 'AUX7': {'Name': 'AUX7', 'LastPosition': 0, 'Status': 1, 'ControllerID': 0},\n",
       " 'AUX8': {'Name': 'AUX8', 'LastPosition': 0, 'Status': 1, 'ControllerID': 0},\n",
       " 'ExitVSlit': {'Name': 'Slit Horizontal',\n",
       "  'LastPosition': 4.01,\n",
       "  'Status': 0,\n",
       "  'ControllerID': 299},\n",
       " 'ExitHSlit': {'Name': 'Slit Vertical',\n",
       "  'LastPosition': 4.02,\n",
       "  'Status': 0,\n",
       "  'ControllerID': 298}}"
      ]
     },
     "execution_count": 11,
     "metadata": {},
     "output_type": "execute_result"
    }
   ],
   "source": [
    "sample_hdr.as_dict"
   ]
  },
  {
   "cell_type": "markdown",
   "id": "2565384d-fbce-4792-9c3a-5319127b33e6",
   "metadata": {},
   "source": [
    "<h3>Remove image artifacts</h3>\n",
    "Run the following cell to remove hot/dead pixels or line artifacts in the images. If there are no artifacts, you do not need to run the cell. You can uncomment the 'plot_stack' line to view the result."
   ]
  },
  {
   "cell_type": "code",
   "execution_count": null,
   "id": "14d39197-634b-4c22-bf55-518c710a3b7e",
   "metadata": {},
   "outputs": [],
   "source": [
    "cleaned_images = clean_images(img_array)\n",
    "plot_stack(cleaned_images, extent)\n",
    "aligned_images = []"
   ]
  },
  {
   "cell_type": "markdown",
   "id": "b4472797-bc1b-43a6-ac18-36795fe0b61c",
   "metadata": {},
   "source": [
    "<h3>Align images</h3>\n",
    "Run the following cell to align the images. You can uncomment the 'plot_stack' line to view the result."
   ]
  },
  {
   "cell_type": "code",
   "execution_count": null,
   "id": "0db403cc-62d7-413b-9582-8b030f63045e",
   "metadata": {},
   "outputs": [],
   "source": [
    "# if you want the images aligned one after the other set to True. Otherwise, to align the stack with respect to the first image, set to False.\n",
    "sequential = True\n",
    "# the smaller, the finer the alignment. Usual values (0.001, 0.005)\n",
    "shift_parameter = 0.3\n",
    "# the smaller, the faster...\n",
    "upsample_parameter = 500\n",
    "\n",
    "if len(cleaned_images) == 0:\n",
    "    aligned_images = align_images(img_array,sequential, shift_parameter,upsample_parameter)\n",
    "else:\n",
    "    aligned_images = align_images(cleaned_images,sequential,shift_parameter,upsample_parameter)\n",
    "plot_stack(aligned_images, extent)"
   ]
  },
  {
   "cell_type": "markdown",
   "id": "b6e4a2da-88d2-4eee-8f4d-19e490187d48",
   "metadata": {},
   "source": [
    "<h3>Select ROI</h3>\n",
    "Start by choosing an image number from the stack ('im_number') and run the cell. On the image, choose the points for a ROI by left-clicking in the relevant locations. Once happy with the ROI, click on either 'Intensity ROI' or 'Background ROI'. If you made a mistake selecting the ROI, just click one of the aforementioned buttons and start selecting a new ROI. If you want to select multiple intensity ROIs: select one ROI and click 'Append I ROI', select another ROI and click 'Append I ROI' and so on... Once happy with all ROIs, click 'Intensity ROI' and an average of all selected ROIs will be plotted. To save the resulting spectrum to a .txt file, please type a name for the file and click 'Save spectrum to .txt'."
   ]
  },
  {
   "cell_type": "code",
   "execution_count": null,
   "id": "d6c22172-3ce5-4db5-8870-daaad4e8feae",
   "metadata": {},
   "outputs": [],
   "source": [
    "# the image number in the stack to select the ROIs from (the script will go through the whole stack)\n",
    "im_number = 10\n",
    "\n",
    "# Optional min and max contrast values, set one to None for default values\n",
    "vmin = None\n",
    "vmax = 100\n",
    "\n",
    "# automatic image stack selection\n",
    "img1 = np.array(img_array[im_number], dtype='float64')\n",
    "if vmin == None or vmax == None:\n",
    "    vmin = np.min(img1)\n",
    "    vmax = np.max(img1)    \n",
    "if len(cleaned_images) == 0 and len(aligned_images) == 0:\n",
    "    ROIs_select(img1, vmin, vmax, img_array, energy, fc)\n",
    "elif len(cleaned_images) != 0 and len(aligned_images) == 0:\n",
    "    ROIs_select(img1, vmin, vmax, cleaned_images, energy, fc)\n",
    "elif len(cleaned_images) == 0 and len(aligned_images) != 0 or len(cleaned_images) != 0 and len(aligned_images) != 0:\n",
    "    ROIs_select(img1, vmin, vmax, aligned_images, energy, fc)\n"
   ]
  },
  {
   "cell_type": "markdown",
   "id": "f0347fa9-f4d5-400a-8999-1b4e3831a17a",
   "metadata": {},
   "source": [
    "<h3>Plot line intensity</h3>\n",
    "Select an image number and draw a line to plot the pixel intensity."
   ]
  },
  {
   "cell_type": "code",
   "execution_count": null,
   "id": "26014432-25c2-4aeb-864a-abcf63b09a91",
   "metadata": {},
   "outputs": [],
   "source": [
    "# the image number in the stack to plot the line intensity\n",
    "im_number = 10\n",
    "\n",
    "# automatic image stack selection\n",
    "if len(cleaned_images) == 0 and len(aligned_images) == 0:\n",
    "    img1 = np.array(img_array[im_number], dtype='float64')\n",
    "elif len(cleaned_images) != 0 and len(aligned_images) == 0:\n",
    "    img1 = np.array(cleaned_images[im_number], dtype='float64')\n",
    "elif len(cleaned_images) == 0 and len(aligned_images) != 0 or len(cleaned_images) != 0 and len(aligned_images) != 0:\n",
    "    img1 = np.array(aligned_images[im_number], dtype='float64')\n",
    "    \n",
    "line_intensity(img1, extent)"
   ]
  },
  {
   "cell_type": "markdown",
   "id": "521eeb05-6c53-4e2c-93d4-878696b8bf47",
   "metadata": {},
   "source": [
    "<h3>Save NEXUS/TIF stack</h3>"
   ]
  },
  {
   "cell_type": "code",
   "execution_count": null,
   "id": "6b9c7028-64f8-4400-b1f7-a66d0d7ffa15",
   "metadata": {},
   "outputs": [],
   "source": [
    "'''if len(cleaned_images) == 0 and len(aligned_images) == 0:\n",
    "    Nexus_File_Save(img_array, sample_hdr, fc)\n",
    "elif len(cleaned_images) != 0 and len(aligned_images) == 0:\n",
    "    Nexus_File_Save(cleaned_images, sample_hdr, fc)\n",
    "elif len(cleaned_images) == 0 and len(aligned_images) != 0 or len(cleaned_images) != 0 and len(aligned_images) != 0:\n",
    "    Nexus_File_Save(aligned_images, sample_hdr, fc)'''"
   ]
  },
  {
   "cell_type": "code",
   "execution_count": null,
   "id": "9fd3b2ae-114e-4f7a-bae8-2cc437b60be6",
   "metadata": {},
   "outputs": [],
   "source": []
  }
 ],
 "metadata": {
  "kernelspec": {
   "display_name": "Python 3 (ipykernel)",
   "language": "python",
   "name": "python3"
  },
  "language_info": {
   "codemirror_mode": {
    "name": "ipython",
    "version": 3
   },
   "file_extension": ".py",
   "mimetype": "text/x-python",
   "name": "python",
   "nbconvert_exporter": "python",
   "pygments_lexer": "ipython3",
   "version": "3.8.18"
  }
 },
 "nbformat": 4,
 "nbformat_minor": 5
}
